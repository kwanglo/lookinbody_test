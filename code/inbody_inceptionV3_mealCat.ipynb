{
  "nbformat": 4,
  "nbformat_minor": 0,
  "metadata": {
    "colab": {
      "name": "inbody_inceptionV3_mealCat.ipynb",
      "provenance": [],
      "collapsed_sections": [],
      "authorship_tag": "ABX9TyN7x3+lwzxq1jojyKqMM/yh",
      "include_colab_link": true
    },
    "kernelspec": {
      "name": "python3",
      "display_name": "Python 3"
    }
  },
  "cells": [
    {
      "cell_type": "markdown",
      "metadata": {
        "id": "view-in-github",
        "colab_type": "text"
      },
      "source": [
        "<a href=\"https://colab.research.google.com/github/kwanglo/lookinbody_test/blob/master/code/inbody_inceptionV3_mealCat.ipynb\" target=\"_parent\"><img src=\"https://colab.research.google.com/assets/colab-badge.svg\" alt=\"Open In Colab\"/></a>"
      ]
    },
    {
      "cell_type": "code",
      "metadata": {
        "id": "MtpSseby8jlM",
        "colab_type": "code",
        "colab": {
          "base_uri": "https://localhost:8080/",
          "height": 35
        },
        "outputId": "9b6cb635-ea6c-444f-c690-ec0826772f91"
      },
      "source": [
        "#구글 드라이브와 연동\n",
        "from google.colab import drive\n",
        "drive.mount('/gdrive', force_remount=True)"
      ],
      "execution_count": 199,
      "outputs": [
        {
          "output_type": "stream",
          "text": [
            "Mounted at /gdrive\n"
          ],
          "name": "stdout"
        }
      ]
    },
    {
      "cell_type": "code",
      "metadata": {
        "id": "_fBMzxYo8qMk",
        "colab_type": "code",
        "colab": {}
      },
      "source": [
        "#사용 라이브러리 import\n",
        "from IPython.display import display\n",
        "import numpy as np\n",
        "import matplotlib.pyplot as plt\n",
        "%matplotlib inline\n",
        "import pandas as pd\n",
        "import os\n",
        "import datetime\n",
        "import glob  # finding image paths\n",
        "from skimage.io import imread  # reading images\n",
        "from skimage.transform import resize  # resizing images\n",
        "import PIL\n",
        "import PIL.Image\n",
        "\n",
        "import tensorflow as tf\n",
        "!pip -q install tensorflow-hub\n",
        "import tensorflow_hub as hub\n",
        "\n",
        "import time\n",
        "from IPython.display import Image, display"
      ],
      "execution_count": 200,
      "outputs": []
    },
    {
      "cell_type": "code",
      "metadata": {
        "id": "ZcEdSN608u2-",
        "colab_type": "code",
        "colab": {}
      },
      "source": [
        "#공유폴더에서 해당 directory로 바로가기 추가 후 진행\n",
        "path = '/gdrive/My Drive/Colab Notebooks/사진 자료'"
      ],
      "execution_count": 201,
      "outputs": []
    },
    {
      "cell_type": "markdown",
      "metadata": {
        "id": "zfJyfV-LAup3",
        "colab_type": "text"
      },
      "source": [
        "### 사용자 및 사진 정보 추출\n",
        "\n",
        "1. 디렉토리에서 폴더 이름 추출<br>\n",
        "2. 각 폴더에서 사진정보에 따라 촬영날짜, 시간 추출<br>\n",
        "3. 시간 데이터에 따른 식사 카테고리 구분"
      ]
    },
    {
      "cell_type": "code",
      "metadata": {
        "id": "_VX6HGHsCMcm",
        "colab_type": "code",
        "colab": {}
      },
      "source": [
        "#사용자 정보 추출 후 .DS_Store 삭제\n",
        "user_name = pd.DataFrame(os.listdir(path))\n",
        "user_name.columns = ['userID']\n",
        "user_name = user_name[user_name.userID != '.DS_Store']\n",
        "#필요 시 userID 순서대로 정렬 ==> 불필요한 경우 주석처리 가능\n",
        "user_name.sort_values(by=['userID'], axis=0, inplace=True)\n",
        "user_name = user_name.reset_index(drop=True)\n",
        "#전체 사용자의 userID순서대로 정렬된 path list 생성\n",
        "path_temp = path + \"/\" + user_name[['userID'][0]]"
      ],
      "execution_count": 270,
      "outputs": []
    },
    {
      "cell_type": "code",
      "metadata": {
        "id": "3fMRqotLDA0-",
        "colab_type": "code",
        "colab": {}
      },
      "source": [
        "#각 사용자별 사진 이름을 포함하는 테이블 생성 - 전체 데이터\n",
        "df_table = pd.DataFrame()\n",
        "#df_table.columns = ['file_name','userID','date_info','meal_category'] #최종 column\n",
        "\n",
        "for i in range(0,len(path_temp)):\n",
        "  #각 userID에 따라 파일명 구하기\n",
        "  file_name_temp = pd.DataFrame(os.listdir(path_temp[i]))\n",
        "  file_name_temp.columns = ['col_temp']\n",
        "  #.DS_Store 파일 삭제\n",
        "  file_name_temp = file_name_temp[file_name_temp.col_temp != '.DS_Store']  \n",
        "  #임시 테이블 생성\n",
        "  df_temp = pd.DataFrame()\n",
        "  #파일명과 유저ID 입력\n",
        "  df_temp['file_name'] = file_name_temp['col_temp']\n",
        "  df_temp['userID'] = user_name[['userID'][0]][i]\n",
        "  #파일명에서 시간정보 추출\n",
        "  df_temp['date_info'] = df_temp['file_name'].str.slice(stop=12)\n",
        "  df_temp['date_info'] = pd.to_datetime(df_temp.date_info, format='%Y%m%d%H%M', errors='ignore')\n",
        "  #식사 시간 기준으로 meal_category 생성\n",
        "  #06~10시 아침\n",
        "  #11~16시 점심\n",
        "  #17~21시 저녁\n",
        "  #21~05시 야식\n",
        "  df_temp['meal_category'] = '미분류' #카테고리 기본값 설정\n",
        "  #기준 시각에 따라 식사 카테고리 분류\n",
        "  df_temp.loc[(df_temp['date_info'].dt.hour > 5) & (df_temp['date_info'].dt.hour <= 10), 'meal_category'] = '아침'\n",
        "  df_temp.loc[(df_temp['date_info'].dt.hour > 10) & (df_temp['date_info'].dt.hour <= 16), 'meal_category'] = '점심'\n",
        "  df_temp.loc[(df_temp['date_info'].dt.hour > 16) & (df_temp['date_info'].dt.hour <= 20), 'meal_category'] = '저녁'\n",
        "  df_temp.loc[(df_temp['date_info'].dt.hour > 20) | (df_temp['date_info'].dt.hour <= 5), 'meal_category'] = '야식'\n",
        "  #사용자 전체에 대해 누적 테이블 생성\n",
        "  df_table = pd.concat([df_table, df_temp],ignore_index=True)"
      ],
      "execution_count": 271,
      "outputs": []
    },
    {
      "cell_type": "markdown",
      "metadata": {
        "id": "N4B0KIaZmYkk",
        "colab_type": "text"
      },
      "source": [
        "### 타겟 사용자 및 타겟 이미지 지정"
      ]
    },
    {
      "cell_type": "code",
      "metadata": {
        "id": "sjWLiBswB5HP",
        "colab_type": "code",
        "colab": {
          "base_uri": "https://localhost:8080/",
          "height": 35
        },
        "outputId": "9d1548aa-5976-497c-f904-9dd317521952"
      },
      "source": [
        "#타겟 사용자 지정\n",
        "user_num_temp = 5 #타겟 사용자의 userID에 따른 순번 입력\n",
        "#필요시 userID를 input으로 입력받아서도 가능\n",
        "img_path = path_temp[user_num_temp]\n",
        "img_path #입력한 userID가 맞는지 확인"
      ],
      "execution_count": 312,
      "outputs": [
        {
          "output_type": "execute_result",
          "data": {
            "application/vnd.google.colaboratory.intrinsic+json": {
              "type": "string"
            },
            "text/plain": [
              "'/gdrive/My Drive/Colab Notebooks/사진 자료/1017905'"
            ]
          },
          "metadata": {
            "tags": []
          },
          "execution_count": 312
        }
      ]
    },
    {
      "cell_type": "code",
      "metadata": {
        "id": "JrTa0bpMB79M",
        "colab_type": "code",
        "colab": {}
      },
      "source": [
        "#평가할 사용자 폴더에 있는 파일 리스트\n",
        "img_list = np.array(os.listdir(img_path))\n",
        "img_list = pd.DataFrame(img_list[img_list != '.DS_Store'],columns=['file_name'])\n",
        "target_image_num = 20 #len(img_list) - 1 # 타겟 이미지 인덱스\n",
        "\n",
        "#img_list로부터 현재 입력중인 사용자 정보 확인\n",
        "current_userID = img_path.split('/')\n",
        "current_userID = current_userID[len(current_userID)-1]\n",
        "#타겟 사용자의 데이터만 별도로 추출\n",
        "current_userInfo = df_table.loc[df_table.userID == current_userID]\n",
        "current_userInfo = current_userInfo.reset_index(drop=True)\n",
        "current_userInfo['url'] = img_path+'/'+img_list['file_name']\n",
        "#유사도 분석에 활용할 타겟테이블 생성\n",
        "target_table = current_userInfo\n",
        "# 타겟 이미지의 식사분류 지정 및 target과 test(input)테이블 분리\n",
        "target_mealCat = target_table['meal_category'][target_image_num] \n",
        "target_table_input = target_table.drop(index=target_image_num, axis=0)\n",
        "test_input_df = target_table_input.loc[target_table_input.meal_category == target_mealCat].reset_index(drop=True)\n",
        "#타겟/비교 이미지 링크 지정\n",
        "target_image_path = target_table['url'][target_image_num]\n",
        "input_img_paths = test_input_df['url']\n",
        "#통합 이미지 링크 지정\n",
        "integrated_path = np.append(target_image_path,input_img_paths)\n",
        "#타겟 이미지 링크 확인"
      ],
      "execution_count": 313,
      "outputs": []
    },
    {
      "cell_type": "code",
      "metadata": {
        "id": "TewZsM-nxIYQ",
        "colab_type": "code",
        "colab": {
          "base_uri": "https://localhost:8080/",
          "height": 35
        },
        "outputId": "cc3b577f-0a7a-457d-a2ce-aaf22dd84da3"
      },
      "source": [
        "target_mealCat"
      ],
      "execution_count": 314,
      "outputs": [
        {
          "output_type": "execute_result",
          "data": {
            "application/vnd.google.colaboratory.intrinsic+json": {
              "type": "string"
            },
            "text/plain": [
              "'저녁'"
            ]
          },
          "metadata": {
            "tags": []
          },
          "execution_count": 314
        }
      ]
    },
    {
      "cell_type": "code",
      "metadata": {
        "id": "PHHkv3DqkhGY",
        "colab_type": "code",
        "colab": {}
      },
      "source": [
        "#필요시 타겟 이미지 확인\n",
        "#PIL.Image.open(str(target_image_url))"
      ],
      "execution_count": 206,
      "outputs": []
    },
    {
      "cell_type": "markdown",
      "metadata": {
        "id": "mY4TGfUrntw0",
        "colab_type": "text"
      },
      "source": [
        "### 모델 생성 및 결과 비교"
      ]
    },
    {
      "cell_type": "code",
      "metadata": {
        "id": "3AGTboGYxboj",
        "colab_type": "code",
        "colab": {}
      },
      "source": [
        "#imageNet을 활용한 inception version 3 사용\n",
        "module_url = \"https://tfhub.dev/google/imagenet/inception_v3/feature_vector/4\""
      ],
      "execution_count": 297,
      "outputs": []
    },
    {
      "cell_type": "code",
      "metadata": {
        "id": "0fXb1QBTCVIT",
        "colab_type": "code",
        "colab": {}
      },
      "source": [
        "#분류 모델 제작 - 최종적으로 입력벡터와 유사도 반환\n",
        "def build_graph(module_url, target_image_path):\n",
        "  # Step 1) Prepare pre-trained model for extracting image features.\n",
        "  module = hub.KerasLayer(module_url)\n",
        "  #모델에 적합한 h, w 지정 - \n",
        "  height = 229\n",
        "  width = 229\n",
        "  CHANNELS = 3\n",
        "  # Copied a method of https://github.com/GoogleCloudPlatform/cloudml-samples/blob/bf0680726/flowers/trainer/model.py#L181\n",
        "  # and fixed for all type images (not only jpeg)\n",
        "  def decode_and_resize(image_str_tensor):\n",
        "    \"\"\"Decodes jpeg string, resizes it and returns a uint8 tensor.\"\"\"\n",
        "    image = tf.image.decode_image(image_str_tensor, channels=CHANNELS)\n",
        "    # Note resize expects a batch_size, but tf_map supresses that index,\n",
        "    # thus we have to expand then squeeze.  Resize returns float32 in the\n",
        "    # range [0, uint8_max]\n",
        "    image = tf.expand_dims(image, 0)\n",
        "    image = tf.compat.v1.image.resize_bilinear(\n",
        "        image, [height, width], align_corners=False)\n",
        "    image = tf.squeeze(image)\n",
        "    image = tf.cast(image, dtype=tf.uint8)\n",
        "    return image\n",
        "\n",
        "  def to_img_feature(images):\n",
        "    \"\"\"Extract the feature of image vectors\"\"\"\n",
        "    outputs = module(images)\n",
        "    return outputs\n",
        "\n",
        "  # Step 2) Extract image features of the target image.\n",
        "  target_image_bytes = tf.io.gfile.GFile(target_image_path, 'rb').read()\n",
        "  target_image = tf.constant(target_image_bytes, dtype=tf.string)\n",
        "  target_image = decode_and_resize(target_image)\n",
        "  target_image = tf.image.convert_image_dtype(target_image, dtype=tf.float32)\n",
        "  target_image = tf.expand_dims(target_image, 0)\n",
        "  target_image = to_img_feature(target_image)\n",
        "\n",
        "  # Step 3) Extract image features of input images.\n",
        "  input_byte = tf.compat.v1.placeholder(tf.string, shape=[None])\n",
        "  input_image = tf.map_fn(decode_and_resize, input_byte, back_prop=False, dtype=tf.uint8)\n",
        "  input_image = tf.image.convert_image_dtype(input_image, dtype=tf.float32)\n",
        "  input_image = to_img_feature(input_image)\n",
        "\n",
        "  # Step 4) Compare cosine_similarities of the target image and the input images.\n",
        "  dot = tf.tensordot(target_image, tf.transpose(input_image), 1)\n",
        "  similarity = dot / (tf.norm(target_image, axis=1) * tf.norm(input_image, axis=1))\n",
        "  similarity = tf.reshape(similarity, [-1])\n",
        "  \n",
        "  return input_byte, similarity"
      ],
      "execution_count": 275,
      "outputs": []
    },
    {
      "cell_type": "code",
      "metadata": {
        "id": "J2-ij66fC5cR",
        "colab_type": "code",
        "colab": {}
      },
      "source": [
        "#Step5 -- Run\n",
        "#Compar target and input image\n",
        "\n",
        "# Load bytes of image files\n",
        "image_bytes = [open(name, 'rb').read()\n",
        "               for name in integrated_path]"
      ],
      "execution_count": 315,
      "outputs": []
    },
    {
      "cell_type": "code",
      "metadata": {
        "id": "pZJVsvPiDFxA",
        "colab_type": "code",
        "colab": {
          "base_uri": "https://localhost:8080/",
          "height": 35
        },
        "outputId": "4b64d069-59ad-484a-8785-a8570975da2d"
      },
      "source": [
        "with tf.Graph().as_default():\n",
        "  input_byte, similarity_op = build_graph(module_url, target_image_path)\n",
        "\n",
        "  with tf.compat.v1.Session() as sess:\n",
        "    sess.run(tf.compat.v1.global_variables_initializer())\n",
        "    t0 = time.time() # for time check\n",
        "    \n",
        "    # Inference similarities\n",
        "    similarities = sess.run(similarity_op, feed_dict={input_byte: image_bytes})\n",
        "    \n",
        "    print(\"%d개 이미지 처리시간: %.2f 초\" % (len(similarities), time.time() - t0))"
      ],
      "execution_count": 316,
      "outputs": [
        {
          "output_type": "stream",
          "text": [
            "27개 이미지 처리시간: 5.98 초\n"
          ],
          "name": "stdout"
        }
      ]
    },
    {
      "cell_type": "code",
      "metadata": {
        "id": "WjzmSpGa49Gh",
        "colab_type": "code",
        "colab": {
          "base_uri": "https://localhost:8080/",
          "height": 125
        },
        "outputId": "6a42d107-61fa-44d7-ecfa-65ec0ecfd2a0"
      },
      "source": [
        "similarities"
      ],
      "execution_count": 317,
      "outputs": [
        {
          "output_type": "execute_result",
          "data": {
            "text/plain": [
              "array([1.0000002 , 0.7167047 , 0.7584221 , 0.7813802 , 0.72129315,\n",
              "       0.7340472 , 0.69993436, 0.6979532 , 0.7705573 , 0.67411673,\n",
              "       0.4976635 , 0.7362812 , 0.62610173, 0.68198884, 0.62158376,\n",
              "       0.5948745 , 0.68202925, 0.70807874, 0.69462067, 0.7176708 ,\n",
              "       0.74555004, 0.6653539 , 0.69891953, 0.5999698 , 0.5637834 ,\n",
              "       0.61576045, 0.68794143], dtype=float32)"
            ]
          },
          "metadata": {
            "tags": []
          },
          "execution_count": 317
        }
      ]
    },
    {
      "cell_type": "code",
      "metadata": {
        "id": "rRKdwUE7vKTV",
        "colab_type": "code",
        "colab": {}
      },
      "source": [
        "#실제 출력에 활용한 이미지 리스트 제작\n",
        "test_input_df['similarity'] = similarities[1:len(similarities)] #타겟사진을 제외한 유사도 추출\n",
        "test_input_df = test_input_df.sort_values(by=['similarity'],ascending=False).reset_index(drop=True) # 높은 순으로 정렬\n",
        "\n",
        "sorted_img_path = np.array(test_input_df['url'][0:5]) #상위 n개 추출\n",
        "sorted_sim = np.array(test_input_df['similarity'][0:5]) #상위 n개 추출"
      ],
      "execution_count": 318,
      "outputs": []
    },
    {
      "cell_type": "code",
      "metadata": {
        "id": "1nQInhFuF8qn",
        "colab_type": "code",
        "colab": {}
      },
      "source": [
        "# 결과 출력\n",
        "print(\"### 타겟 이미지 ###\")\n",
        "display(Image(filename = target_image_path, width = 300, height = 300))\n",
        "print(\"- 유사도: %.2f\" % similarities[0])\n",
        "\n",
        "print(\"### 비교 이미지 ###\")\n",
        "for similarity, sorted_img_path in zip(sorted_sim, sorted_img_path):\n",
        "  display(Image(filename = sorted_img_path, width = 300, height = 300))  \n",
        "  print(\"- 유사도: %.2f\" % similarity)"
      ],
      "execution_count": null,
      "outputs": []
    },
    {
      "cell_type": "code",
      "metadata": {
        "id": "syfZ-ouKtT5N",
        "colab_type": "code",
        "colab": {}
      },
      "source": [
        ""
      ],
      "execution_count": null,
      "outputs": []
    }
  ]
}