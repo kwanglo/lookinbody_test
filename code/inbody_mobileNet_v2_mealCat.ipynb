{
  "nbformat": 4,
  "nbformat_minor": 0,
  "metadata": {
    "colab": {
      "name": "inbody_mobileNet_v2_mealCat.ipynb",
      "provenance": [],
      "collapsed_sections": [],
      "authorship_tag": "ABX9TyOlfGKT/IJdcaGSihcuqxwm",
      "include_colab_link": true
    },
    "kernelspec": {
      "name": "python3",
      "display_name": "Python 3"
    }
  },
  "cells": [
    {
      "cell_type": "markdown",
      "metadata": {
        "id": "view-in-github",
        "colab_type": "text"
      },
      "source": [
        "<a href=\"https://colab.research.google.com/github/kwanglo/lookinbody_test/blob/master/code/inbody_mobileNet_v2_mealCat.ipynb\" target=\"_parent\"><img src=\"https://colab.research.google.com/assets/colab-badge.svg\" alt=\"Open In Colab\"/></a>"
      ]
    },
    {
      "cell_type": "code",
      "metadata": {
        "id": "MtpSseby8jlM",
        "colab_type": "code",
        "colab": {
          "base_uri": "https://localhost:8080/",
          "height": 127
        },
        "outputId": "b262a241-5cf3-4f7c-9f1f-14487e9ca322"
      },
      "source": [
        "#구글 드라이브와 연동\n",
        "from google.colab import drive\n",
        "drive.mount('/gdrive', force_remount=True)"
      ],
      "execution_count": 1,
      "outputs": [
        {
          "output_type": "stream",
          "text": [
            "Go to this URL in a browser: https://accounts.google.com/o/oauth2/auth?client_id=947318989803-6bn6qk8qdgf4n4g3pfee6491hc0brc4i.apps.googleusercontent.com&redirect_uri=urn%3aietf%3awg%3aoauth%3a2.0%3aoob&scope=email%20https%3a%2f%2fwww.googleapis.com%2fauth%2fdocs.test%20https%3a%2f%2fwww.googleapis.com%2fauth%2fdrive%20https%3a%2f%2fwww.googleapis.com%2fauth%2fdrive.photos.readonly%20https%3a%2f%2fwww.googleapis.com%2fauth%2fpeopleapi.readonly&response_type=code\n",
            "\n",
            "Enter your authorization code:\n",
            "··········\n",
            "Mounted at /gdrive\n"
          ],
          "name": "stdout"
        }
      ]
    },
    {
      "cell_type": "code",
      "metadata": {
        "id": "_fBMzxYo8qMk",
        "colab_type": "code",
        "colab": {}
      },
      "source": [
        "#사용 라이브러리 import\n",
        "from IPython.display import display\n",
        "import numpy as np\n",
        "import matplotlib.pyplot as plt\n",
        "%matplotlib inline\n",
        "import pandas as pd\n",
        "import os\n",
        "import datetime\n",
        "import glob  # finding image paths\n",
        "from skimage.io import imread  # reading images\n",
        "from skimage.transform import resize  # resizing images\n",
        "import PIL\n",
        "import PIL.Image\n",
        "\n",
        "import tensorflow as tf\n",
        "!pip -q install tensorflow-hub\n",
        "import tensorflow_hub as hub\n",
        "\n",
        "import time\n",
        "from IPython.display import Image, display"
      ],
      "execution_count": 2,
      "outputs": []
    },
    {
      "cell_type": "code",
      "metadata": {
        "id": "ZcEdSN608u2-",
        "colab_type": "code",
        "colab": {}
      },
      "source": [
        "#공유폴더에서 해당 directory로 바로가기 추가 후 진행\n",
        "path = '/gdrive/My Drive/Colab Notebooks/사진 자료'"
      ],
      "execution_count": 3,
      "outputs": []
    },
    {
      "cell_type": "markdown",
      "metadata": {
        "id": "zfJyfV-LAup3",
        "colab_type": "text"
      },
      "source": [
        "### 사용자 및 사진 정보 추출\n",
        "\n",
        "1. 디렉토리에서 폴더 이름 추출<br>\n",
        "2. 각 폴더에서 사진정보에 따라 촬영날짜, 시간 추출<br>\n",
        "3. 시간 데이터에 따른 식사 카테고리 구분"
      ]
    },
    {
      "cell_type": "code",
      "metadata": {
        "id": "_VX6HGHsCMcm",
        "colab_type": "code",
        "colab": {}
      },
      "source": [
        "#사용자 정보 추출 후 .DS_Store 삭제\n",
        "user_name = pd.DataFrame(os.listdir(path))\n",
        "user_name.columns = ['userID']\n",
        "user_name = user_name[user_name.userID != '.DS_Store']\n",
        "#필요 시 userID 순서대로 정렬 ==> 불필요한 경우 주석처리 가능\n",
        "user_name.sort_values(by=['userID'], axis=0, inplace=True)\n",
        "user_name = user_name.reset_index(drop=True)\n",
        "#전체 사용자의 userID순서대로 정렬된 path list 생성\n",
        "path_temp = path + \"/\" + user_name[['userID'][0]]"
      ],
      "execution_count": 4,
      "outputs": []
    },
    {
      "cell_type": "code",
      "metadata": {
        "id": "3fMRqotLDA0-",
        "colab_type": "code",
        "colab": {}
      },
      "source": [
        "#각 사용자별 사진 이름을 포함하는 테이블 생성 - 전체 데이터\n",
        "df_table = pd.DataFrame()\n",
        "#df_table.columns = ['file_name','userID','date_info','meal_category'] #최종 column\n",
        "\n",
        "for i in range(0,len(path_temp)):\n",
        "  #각 userID에 따라 파일명 구하기\n",
        "  file_name_temp = pd.DataFrame(os.listdir(path_temp[i]))\n",
        "  file_name_temp.columns = ['col_temp']\n",
        "  #.DS_Store 파일 삭제\n",
        "  file_name_temp = file_name_temp[file_name_temp.col_temp != '.DS_Store']  \n",
        "  #임시 테이블 생성\n",
        "  df_temp = pd.DataFrame()\n",
        "  #파일명과 유저ID 입력\n",
        "  df_temp['file_name'] = file_name_temp['col_temp']\n",
        "  df_temp['userID'] = user_name[['userID'][0]][i]\n",
        "  #파일명에서 시간정보 추출\n",
        "  df_temp['date_info'] = df_temp['file_name'].str.slice(stop=12)\n",
        "  df_temp['date_info'] = pd.to_datetime(df_temp.date_info, format='%Y%m%d%H%M', errors='ignore')\n",
        "  #식사 시간 기준으로 meal_category 생성\n",
        "  #06~10시 아침\n",
        "  #11~16시 점심\n",
        "  #17~21시 저녁\n",
        "  #21~05시 야식\n",
        "  df_temp['meal_category'] = '미분류' #카테고리 기본값 설정\n",
        "  #기준 시각에 따라 식사 카테고리 분류\n",
        "  df_temp.loc[(df_temp['date_info'].dt.hour > 5) & (df_temp['date_info'].dt.hour <= 10), 'meal_category'] = '아침'\n",
        "  df_temp.loc[(df_temp['date_info'].dt.hour > 10) & (df_temp['date_info'].dt.hour <= 16), 'meal_category'] = '점심'\n",
        "  df_temp.loc[(df_temp['date_info'].dt.hour > 16) & (df_temp['date_info'].dt.hour <= 20), 'meal_category'] = '저녁'\n",
        "  df_temp.loc[(df_temp['date_info'].dt.hour > 20) | (df_temp['date_info'].dt.hour <= 5), 'meal_category'] = '야식'\n",
        "  #사용자 전체에 대해 누적 테이블 생성\n",
        "  df_table = pd.concat([df_table, df_temp],ignore_index=True)"
      ],
      "execution_count": 5,
      "outputs": []
    },
    {
      "cell_type": "markdown",
      "metadata": {
        "id": "N4B0KIaZmYkk",
        "colab_type": "text"
      },
      "source": [
        "### 타겟 사용자 및 타겟 이미지 지정"
      ]
    },
    {
      "cell_type": "code",
      "metadata": {
        "id": "sjWLiBswB5HP",
        "colab_type": "code",
        "colab": {
          "base_uri": "https://localhost:8080/",
          "height": 35
        },
        "outputId": "0e4b94ee-3bb4-4c4c-e94a-0453bf383cb0"
      },
      "source": [
        "#타겟 사용자 지정\n",
        "user_num_temp = 0 #타겟 사용자의 userID에 따른 순번 입력\n",
        "#필요시 userID를 input으로 입력받아서도 가능\n",
        "img_path = path_temp[user_num_temp]\n",
        "img_path #입력한 userID가 맞는지 확인"
      ],
      "execution_count": 6,
      "outputs": [
        {
          "output_type": "execute_result",
          "data": {
            "application/vnd.google.colaboratory.intrinsic+json": {
              "type": "string"
            },
            "text/plain": [
              "'/gdrive/My Drive/Colab Notebooks/사진 자료/1000072'"
            ]
          },
          "metadata": {
            "tags": []
          },
          "execution_count": 6
        }
      ]
    },
    {
      "cell_type": "code",
      "metadata": {
        "id": "JrTa0bpMB79M",
        "colab_type": "code",
        "colab": {}
      },
      "source": [
        "#평가할 사용자 폴더에 있는 파일 리스트\n",
        "img_list = np.array(os.listdir(img_path))\n",
        "img_list = pd.DataFrame(img_list[img_list != '.DS_Store'],columns=['file_name'])\n",
        "target_image_num = 0 #len(img_list) - 1 # 타겟 이미지 인덱스\n",
        "\n",
        "#img_list로부터 현재 입력중인 사용자 정보 확인\n",
        "current_userID = img_path.split('/')\n",
        "current_userID = current_userID[len(current_userID)-1]\n",
        "#타겟 사용자의 데이터만 별도로 추출\n",
        "current_userInfo = df_table.loc[df_table.userID == current_userID]\n",
        "current_userInfo = current_userInfo.reset_index(drop=True)\n",
        "current_userInfo['url'] = img_path+'/'+img_list['file_name']\n",
        "#유사도 분석에 활용할 타겟테이블 생성\n",
        "target_table = current_userInfo\n",
        "# 타겟 이미지의 식사분류 지정 및 target과 test(input)테이블 분리\n",
        "target_mealCat = target_table['meal_category'][target_image_num] \n",
        "target_table_input = target_table.drop(index=target_image_num, axis=0)\n",
        "test_input_df = target_table_input.loc[target_table_input.meal_category == target_mealCat].reset_index(drop=True)\n",
        "#타겟/비교 이미지 링크 지정\n",
        "target_image_path = target_table['url'][target_image_num]\n",
        "input_img_paths = test_input_df['url']\n",
        "#통합 이미지 링크 지정\n",
        "integrated_path = np.append(target_image_path,input_img_paths)\n",
        "#타겟 이미지 링크 확인"
      ],
      "execution_count": 7,
      "outputs": []
    },
    {
      "cell_type": "code",
      "metadata": {
        "id": "TewZsM-nxIYQ",
        "colab_type": "code",
        "colab": {
          "base_uri": "https://localhost:8080/",
          "height": 35
        },
        "outputId": "8dd52e93-df87-48c2-8f3a-fe9c86eff484"
      },
      "source": [
        "target_mealCat"
      ],
      "execution_count": 8,
      "outputs": [
        {
          "output_type": "execute_result",
          "data": {
            "application/vnd.google.colaboratory.intrinsic+json": {
              "type": "string"
            },
            "text/plain": [
              "'아침'"
            ]
          },
          "metadata": {
            "tags": []
          },
          "execution_count": 8
        }
      ]
    },
    {
      "cell_type": "code",
      "metadata": {
        "id": "PHHkv3DqkhGY",
        "colab_type": "code",
        "colab": {}
      },
      "source": [
        "#필요시 타겟 이미지 확인\n",
        "#PIL.Image.open(str(target_image_url))"
      ],
      "execution_count": null,
      "outputs": []
    },
    {
      "cell_type": "markdown",
      "metadata": {
        "id": "mY4TGfUrntw0",
        "colab_type": "text"
      },
      "source": [
        "### 모델 생성 및 결과 비교"
      ]
    },
    {
      "cell_type": "code",
      "metadata": {
        "id": "3AGTboGYxboj",
        "colab_type": "code",
        "colab": {}
      },
      "source": [
        "#imageNet을 활용한 mobilenet_v2_100_224 사용\n",
        "module_url = \"https://tfhub.dev/google/imagenet/mobilenet_v2_100_224/feature_vector/4\""
      ],
      "execution_count": 9,
      "outputs": []
    },
    {
      "cell_type": "code",
      "metadata": {
        "id": "0fXb1QBTCVIT",
        "colab_type": "code",
        "colab": {}
      },
      "source": [
        "#분류 모델 제작 - 최종적으로 입력벡터와 유사도 반환\n",
        "def build_graph(module_url, target_image_path):\n",
        "  # Step 1) Prepare pre-trained model for extracting image features.\n",
        "  module = hub.KerasLayer(module_url)\n",
        "  #모델에 적합한 h, w 지정 - \n",
        "  height = 224\n",
        "  width = 224\n",
        "  CHANNELS = 3\n",
        "  # Copied a method of https://github.com/GoogleCloudPlatform/cloudml-samples/blob/bf0680726/flowers/trainer/model.py#L181\n",
        "  # and fixed for all type images (not only jpeg)\n",
        "  def decode_and_resize(image_str_tensor):\n",
        "    \"\"\"Decodes jpeg string, resizes it and returns a uint8 tensor.\"\"\"\n",
        "    image = tf.image.decode_image(image_str_tensor, channels=CHANNELS)\n",
        "    # Note resize expects a batch_size, but tf_map supresses that index,\n",
        "    # thus we have to expand then squeeze.  Resize returns float32 in the\n",
        "    # range [0, uint8_max]\n",
        "    image = tf.expand_dims(image, 0)\n",
        "    image = tf.compat.v1.image.resize_bilinear(\n",
        "        image, [height, width], align_corners=False)\n",
        "    image = tf.squeeze(image)\n",
        "    image = tf.cast(image, dtype=tf.uint8)\n",
        "    return image\n",
        "\n",
        "  def to_img_feature(images):\n",
        "    \"\"\"Extract the feature of image vectors\"\"\"\n",
        "    outputs = module(images)\n",
        "    return outputs\n",
        "\n",
        "  # Step 2) Extract image features of the target image.\n",
        "  target_image_bytes = tf.io.gfile.GFile(target_image_path, 'rb').read()\n",
        "  target_image = tf.constant(target_image_bytes, dtype=tf.string)\n",
        "  target_image = decode_and_resize(target_image)\n",
        "  target_image = tf.image.convert_image_dtype(target_image, dtype=tf.float32)\n",
        "  target_image = tf.expand_dims(target_image, 0)\n",
        "  target_image = to_img_feature(target_image)\n",
        "\n",
        "  # Step 3) Extract image features of input images.\n",
        "  input_byte = tf.compat.v1.placeholder(tf.string, shape=[None])\n",
        "  input_image = tf.map_fn(decode_and_resize, input_byte, back_prop=False, dtype=tf.uint8)\n",
        "  input_image = tf.image.convert_image_dtype(input_image, dtype=tf.float32)\n",
        "  input_image = to_img_feature(input_image)\n",
        "\n",
        "  # Step 4) Compare cosine_similarities of the target image and the input images.\n",
        "  dot = tf.tensordot(target_image, tf.transpose(input_image), 1)\n",
        "  similarity = dot / (tf.norm(target_image, axis=1) * tf.norm(input_image, axis=1))\n",
        "  similarity = tf.reshape(similarity, [-1])\n",
        "  \n",
        "  return input_byte, similarity"
      ],
      "execution_count": 10,
      "outputs": []
    },
    {
      "cell_type": "code",
      "metadata": {
        "id": "J2-ij66fC5cR",
        "colab_type": "code",
        "colab": {}
      },
      "source": [
        "#Step5 -- Run\n",
        "#Compar target and input image\n",
        "\n",
        "# Load bytes of image files\n",
        "image_bytes = [open(name, 'rb').read()\n",
        "               for name in integrated_path]"
      ],
      "execution_count": 11,
      "outputs": []
    },
    {
      "cell_type": "code",
      "metadata": {
        "id": "pZJVsvPiDFxA",
        "colab_type": "code",
        "colab": {
          "base_uri": "https://localhost:8080/",
          "height": 415
        },
        "outputId": "3f849b1c-5e87-44ed-f1f1-c3db917cc554"
      },
      "source": [
        "with tf.Graph().as_default():\n",
        "  input_byte, similarity_op = build_graph(module_url, target_image_path)\n",
        "\n",
        "  with tf.compat.v1.Session() as sess:\n",
        "    sess.run(tf.compat.v1.global_variables_initializer())\n",
        "    t0 = time.time() # for time check\n",
        "    \n",
        "    # Inference similarities\n",
        "    similarities = sess.run(similarity_op, feed_dict={input_byte: image_bytes})\n",
        "    \n",
        "    print(\"%d개 이미지 처리시간: %.2f 초\" % (len(similarities), time.time() - t0))"
      ],
      "execution_count": 12,
      "outputs": [
        {
          "output_type": "stream",
          "text": [
            "WARNING:tensorflow:From <ipython-input-10-22feaa8d68ec>:39: calling map_fn_v2 (from tensorflow.python.ops.map_fn) with back_prop=False is deprecated and will be removed in a future version.\n",
            "Instructions for updating:\n",
            "back_prop=False is deprecated. Consider using tf.stop_gradient instead.\n",
            "Instead of:\n",
            "results = tf.map_fn(fn, elems, back_prop=False)\n",
            "Use:\n",
            "results = tf.nest.map_structure(tf.stop_gradient, tf.map_fn(fn, elems))\n"
          ],
          "name": "stdout"
        },
        {
          "output_type": "stream",
          "text": [
            "WARNING:tensorflow:From <ipython-input-10-22feaa8d68ec>:39: calling map_fn_v2 (from tensorflow.python.ops.map_fn) with back_prop=False is deprecated and will be removed in a future version.\n",
            "Instructions for updating:\n",
            "back_prop=False is deprecated. Consider using tf.stop_gradient instead.\n",
            "Instead of:\n",
            "results = tf.map_fn(fn, elems, back_prop=False)\n",
            "Use:\n",
            "results = tf.nest.map_structure(tf.stop_gradient, tf.map_fn(fn, elems))\n"
          ],
          "name": "stderr"
        },
        {
          "output_type": "stream",
          "text": [
            "WARNING:tensorflow:From /usr/local/lib/python3.6/dist-packages/tensorflow/python/util/deprecation.py:574: calling map_fn_v2 (from tensorflow.python.ops.map_fn) with dtype is deprecated and will be removed in a future version.\n",
            "Instructions for updating:\n",
            "Use fn_output_signature instead\n"
          ],
          "name": "stdout"
        },
        {
          "output_type": "stream",
          "text": [
            "WARNING:tensorflow:From /usr/local/lib/python3.6/dist-packages/tensorflow/python/util/deprecation.py:574: calling map_fn_v2 (from tensorflow.python.ops.map_fn) with dtype is deprecated and will be removed in a future version.\n",
            "Instructions for updating:\n",
            "Use fn_output_signature instead\n"
          ],
          "name": "stderr"
        },
        {
          "output_type": "stream",
          "text": [
            "26개 이미지 처리시간: 3.45 초\n"
          ],
          "name": "stdout"
        }
      ]
    },
    {
      "cell_type": "code",
      "metadata": {
        "id": "WjzmSpGa49Gh",
        "colab_type": "code",
        "colab": {
          "base_uri": "https://localhost:8080/",
          "height": 125
        },
        "outputId": "e97fae4e-83ca-48fd-9688-432ee9204afd"
      },
      "source": [
        "similarities"
      ],
      "execution_count": 13,
      "outputs": [
        {
          "output_type": "execute_result",
          "data": {
            "text/plain": [
              "array([1.0000002 , 0.67196345, 0.6369809 , 0.613094  , 0.65464455,\n",
              "       0.63112676, 0.57854694, 0.53967106, 0.6046839 , 0.6551731 ,\n",
              "       0.6593644 , 0.6159186 , 0.58932054, 0.65445364, 0.5815135 ,\n",
              "       0.5568376 , 0.6768871 , 0.67482126, 0.63624984, 0.6811297 ,\n",
              "       0.5806553 , 0.7207235 , 0.5312495 , 0.62023574, 0.6219563 ,\n",
              "       0.6596288 ], dtype=float32)"
            ]
          },
          "metadata": {
            "tags": []
          },
          "execution_count": 13
        }
      ]
    },
    {
      "cell_type": "code",
      "metadata": {
        "id": "rRKdwUE7vKTV",
        "colab_type": "code",
        "colab": {}
      },
      "source": [
        "#실제 출력에 활용한 이미지 리스트 제작\n",
        "test_input_df['similarity'] = similarities[1:len(similarities)] #타겟사진을 제외한 유사도 추출\n",
        "test_input_df = test_input_df.sort_values(by=['similarity'],ascending=False).reset_index(drop=True) # 높은 순으로 정렬\n",
        "\n",
        "sorted_img_path = np.array(test_input_df['url'][0:5]) #상위 n개 추출\n",
        "sorted_sim = np.array(test_input_df['similarity'][0:5]) #상위 n개 추출"
      ],
      "execution_count": 14,
      "outputs": []
    },
    {
      "cell_type": "code",
      "metadata": {
        "id": "1nQInhFuF8qn",
        "colab_type": "code",
        "colab": {}
      },
      "source": [
        "# 결과 출력\n",
        "print(\"### 타겟 이미지 ###\")\n",
        "display(Image(filename = target_image_path, width = 300, height = 300))\n",
        "print(\"- 유사도: %.2f\" % similarities[0])\n",
        "\n",
        "print(\"### 비교 이미지 ###\")\n",
        "for similarity, sorted_img_path in zip(sorted_sim, sorted_img_path):\n",
        "  display(Image(filename = sorted_img_path, width = 300, height = 300))  \n",
        "  print(\"- 유사도: %.2f\" % similarity)"
      ],
      "execution_count": null,
      "outputs": []
    }
  ]
}