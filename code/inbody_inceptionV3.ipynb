{
  "nbformat": 4,
  "nbformat_minor": 0,
  "metadata": {
    "colab": {
      "name": "inbody_inceptionV3.ipynb",
      "provenance": [],
      "collapsed_sections": [],
      "authorship_tag": "ABX9TyOESWFiKiQbdLA6ldFu2Dnn",
      "include_colab_link": true
    },
    "kernelspec": {
      "name": "python3",
      "display_name": "Python 3"
    }
  },
  "cells": [
    {
      "cell_type": "markdown",
      "metadata": {
        "id": "view-in-github",
        "colab_type": "text"
      },
      "source": [
        "<a href=\"https://colab.research.google.com/github/kwanglo/lookinbody_test/blob/master/code/inbody_inceptionV3.ipynb\" target=\"_parent\"><img src=\"https://colab.research.google.com/assets/colab-badge.svg\" alt=\"Open In Colab\"/></a>"
      ]
    },
    {
      "cell_type": "code",
      "metadata": {
        "id": "MtpSseby8jlM",
        "colab_type": "code",
        "colab": {
          "base_uri": "https://localhost:8080/",
          "height": 127
        },
        "outputId": "2386c3d0-12b1-4d77-f891-996f01f34143"
      },
      "source": [
        "#구글 드라이브와 연동\n",
        "from google.colab import drive\n",
        "drive.mount('/gdrive', force_remount=True)"
      ],
      "execution_count": 1,
      "outputs": [
        {
          "output_type": "stream",
          "text": [
            "Go to this URL in a browser: https://accounts.google.com/o/oauth2/auth?client_id=947318989803-6bn6qk8qdgf4n4g3pfee6491hc0brc4i.apps.googleusercontent.com&redirect_uri=urn%3aietf%3awg%3aoauth%3a2.0%3aoob&scope=email%20https%3a%2f%2fwww.googleapis.com%2fauth%2fdocs.test%20https%3a%2f%2fwww.googleapis.com%2fauth%2fdrive%20https%3a%2f%2fwww.googleapis.com%2fauth%2fdrive.photos.readonly%20https%3a%2f%2fwww.googleapis.com%2fauth%2fpeopleapi.readonly&response_type=code\n",
            "\n",
            "Enter your authorization code:\n",
            "··········\n",
            "Mounted at /gdrive\n"
          ],
          "name": "stdout"
        }
      ]
    },
    {
      "cell_type": "code",
      "metadata": {
        "id": "_fBMzxYo8qMk",
        "colab_type": "code",
        "colab": {}
      },
      "source": [
        "#사용 라이브러리 import\n",
        "from IPython.display import display\n",
        "import numpy as np\n",
        "import matplotlib.pyplot as plt\n",
        "%matplotlib inline\n",
        "import pandas as pd\n",
        "import os\n",
        "import datetime\n",
        "import glob  # finding image paths\n",
        "from skimage.io import imread  # reading images\n",
        "from skimage.transform import resize  # resizing images\n",
        "import PIL\n",
        "import PIL.Image\n",
        "\n",
        "import tensorflow as tf\n",
        "!pip -q install tensorflow-hub\n",
        "import tensorflow_hub as hub\n",
        "\n",
        "import time\n",
        "from IPython.display import Image, display"
      ],
      "execution_count": 2,
      "outputs": []
    },
    {
      "cell_type": "code",
      "metadata": {
        "id": "ZcEdSN608u2-",
        "colab_type": "code",
        "colab": {}
      },
      "source": [
        "#공유폴더에서 해당 directory로 바로가기 추가 후 진행\n",
        "path = '/gdrive/My Drive/Colab Notebooks/사진 자료'"
      ],
      "execution_count": 3,
      "outputs": []
    },
    {
      "cell_type": "markdown",
      "metadata": {
        "id": "zfJyfV-LAup3",
        "colab_type": "text"
      },
      "source": [
        "### 사용자 및 사진 정보 추출\n",
        "\n",
        "1. 디렉토리에서 폴더 이름 추출<br>\n",
        "2. 각 폴더에서 사진정보에 따라 촬영날짜, 시간 추출<br>"
      ]
    },
    {
      "cell_type": "code",
      "metadata": {
        "id": "_VX6HGHsCMcm",
        "colab_type": "code",
        "colab": {}
      },
      "source": [
        "#사용자 정보 추출 후 .DS_Store 삭제\n",
        "user_name = pd.DataFrame(os.listdir(path))\n",
        "user_name.columns = ['userID']\n",
        "user_name = user_name[user_name.userID != '.DS_Store']\n",
        "#필요 시 userID 순서대로 정렬 ==> 불필요한 경우 주석처리 가능\n",
        "user_name.sort_values(by=['userID'], axis=0, inplace=True)\n",
        "user_name = user_name.reset_index(drop=True)\n",
        "#전체 사용자의 userID순서대로 정렬된 path list 생성\n",
        "path_temp = path + \"/\" + user_name[['userID'][0]]"
      ],
      "execution_count": 4,
      "outputs": []
    },
    {
      "cell_type": "code",
      "metadata": {
        "id": "3fMRqotLDA0-",
        "colab_type": "code",
        "colab": {}
      },
      "source": [
        "#각 사용자별 사진 이름을 포함하는 테이블 생성 - 전체 데이터\n",
        "df_table = pd.DataFrame()\n",
        "#df_table.columns = ['file_name','userID','date_info'] #최종 column\n",
        "\n",
        "for i in range(0,len(path_temp)):\n",
        "  #각 userID에 따라 파일명 구하기\n",
        "  file_name_temp = pd.DataFrame(os.listdir(path_temp[i]))\n",
        "  file_name_temp.columns = ['col_temp']\n",
        "  #.DS_Store 파일 삭제\n",
        "  file_name_temp = file_name_temp[file_name_temp.col_temp != '.DS_Store']  \n",
        "  #임시 테이블 생성\n",
        "  df_temp = pd.DataFrame()\n",
        "  #파일명과 유저ID 입력\n",
        "  df_temp['file_name'] = file_name_temp['col_temp']\n",
        "  df_temp['userID'] = user_name[['userID'][0]][i]\n",
        "  #파일명에서 시간정보 추출\n",
        "  df_temp['date_info'] = df_temp['file_name'].str.slice(stop=12)\n",
        "  df_temp['date_info'] = pd.to_datetime(df_temp.date_info, format='%Y%m%d%H%M', errors='ignore')\n",
        "  #사용자 전체에 대해 누적 테이블 생성\n",
        "  df_table = pd.concat([df_table, df_temp],ignore_index=True)"
      ],
      "execution_count": 5,
      "outputs": []
    },
    {
      "cell_type": "markdown",
      "metadata": {
        "id": "N4B0KIaZmYkk",
        "colab_type": "text"
      },
      "source": [
        "### 타겟 사용자 및 타겟 이미지 지정"
      ]
    },
    {
      "cell_type": "code",
      "metadata": {
        "id": "sjWLiBswB5HP",
        "colab_type": "code",
        "colab": {
          "base_uri": "https://localhost:8080/",
          "height": 35
        },
        "outputId": "65b0b0c8-8e63-4dc2-ad67-baa71ed91f76"
      },
      "source": [
        "#타겟 사용자 지정\n",
        "user_num_temp = 10 #타겟 사용자의 userID에 따른 순번 입력\n",
        "#필요시 userID를 input으로 입력받아서도 가능\n",
        "img_path = path_temp[user_num_temp]\n",
        "img_path #입력한 userID가 맞는지 확인"
      ],
      "execution_count": 17,
      "outputs": [
        {
          "output_type": "execute_result",
          "data": {
            "application/vnd.google.colaboratory.intrinsic+json": {
              "type": "string"
            },
            "text/plain": [
              "'/gdrive/My Drive/Colab Notebooks/사진 자료/1019079'"
            ]
          },
          "metadata": {
            "tags": []
          },
          "execution_count": 17
        }
      ]
    },
    {
      "cell_type": "code",
      "metadata": {
        "id": "JrTa0bpMB79M",
        "colab_type": "code",
        "colab": {}
      },
      "source": [
        "#평가할 사용자 폴더에 있는 파일 리스트\n",
        "img_list = np.array(os.listdir(img_path))\n",
        "img_list = pd.DataFrame(img_list[img_list != '.DS_Store'],columns=['file_name'])\n",
        "target_image_num = 10 #len(img_list) - 1 # 타겟 이미지 인덱스\n",
        "\n",
        "#img_list로부터 현재 입력중인 사용자 정보 확인\n",
        "current_userID = img_path.split('/')\n",
        "current_userID = current_userID[len(current_userID)-1]\n",
        "#타겟 사용자의 데이터만 별도로 추출\n",
        "current_userInfo = df_table.loc[df_table.userID == current_userID]\n",
        "current_userInfo = current_userInfo.reset_index(drop=True)\n",
        "current_userInfo['url'] = img_path+'/'+img_list['file_name']\n",
        "#유사도 분석에 활용할 타겟테이블 생성\n",
        "target_table = current_userInfo\n",
        "# target과 test(input)테이블 분리\n",
        "target_table_input = target_table.drop(index=target_image_num, axis=0)\n",
        "test_input_df = target_table_input.reset_index(drop=True)\n",
        "#타겟/비교 이미지 링크 지정\n",
        "target_image_path = target_table['url'][target_image_num]\n",
        "input_img_paths = test_input_df['url']\n",
        "#통합 이미지 링크 지정\n",
        "integrated_path = np.append(target_image_path,input_img_paths)\n",
        "#타겟 이미지 링크 확인"
      ],
      "execution_count": 18,
      "outputs": []
    },
    {
      "cell_type": "code",
      "metadata": {
        "id": "0sFcjGB4Koc0",
        "colab_type": "code",
        "colab": {
          "base_uri": "https://localhost:8080/",
          "height": 35
        },
        "outputId": "62847a1c-5aab-4cb5-be8c-3b59fa45d6b8"
      },
      "source": [
        "target_image_path"
      ],
      "execution_count": 19,
      "outputs": [
        {
          "output_type": "execute_result",
          "data": {
            "application/vnd.google.colaboratory.intrinsic+json": {
              "type": "string"
            },
            "text/plain": [
              "'/gdrive/My Drive/Colab Notebooks/사진 자료/1019079/20190912124727.png'"
            ]
          },
          "metadata": {
            "tags": []
          },
          "execution_count": 19
        }
      ]
    },
    {
      "cell_type": "code",
      "metadata": {
        "id": "PHHkv3DqkhGY",
        "colab_type": "code",
        "colab": {}
      },
      "source": [
        "#필요시 타겟 이미지 확인\n",
        "#PIL.Image.open(str(target_image_path))"
      ],
      "execution_count": null,
      "outputs": []
    },
    {
      "cell_type": "markdown",
      "metadata": {
        "id": "mY4TGfUrntw0",
        "colab_type": "text"
      },
      "source": [
        "### 모델 생성 및 결과 비교"
      ]
    },
    {
      "cell_type": "code",
      "metadata": {
        "id": "3AGTboGYxboj",
        "colab_type": "code",
        "colab": {}
      },
      "source": [
        "#imageNet을 활용한 inception version 3 사용\n",
        "module_url = \"https://tfhub.dev/google/imagenet/inception_v3/feature_vector/4\""
      ],
      "execution_count": 10,
      "outputs": []
    },
    {
      "cell_type": "code",
      "metadata": {
        "id": "0fXb1QBTCVIT",
        "colab_type": "code",
        "colab": {}
      },
      "source": [
        "#분류 모델 제작 - 최종적으로 입력벡터와 유사도 반환\n",
        "def build_graph(module_url, target_image_path):\n",
        "  # Step 1) Prepare pre-trained model for extracting image features.\n",
        "  module = hub.KerasLayer(module_url)\n",
        "  #모델에 적합한 h, w 지정 - \n",
        "  height = 229\n",
        "  width = 229\n",
        "  CHANNELS = 3\n",
        "  # Copied a method of https://github.com/GoogleCloudPlatform/cloudml-samples/blob/bf0680726/flowers/trainer/model.py#L181\n",
        "  # and fixed for all type images (not only jpeg)\n",
        "  def decode_and_resize(image_str_tensor):\n",
        "    \"\"\"Decodes jpeg string, resizes it and returns a uint8 tensor.\"\"\"\n",
        "    image = tf.image.decode_image(image_str_tensor, channels=CHANNELS)\n",
        "    # Note resize expects a batch_size, but tf_map supresses that index,\n",
        "    # thus we have to expand then squeeze.  Resize returns float32 in the\n",
        "    # range [0, uint8_max]\n",
        "    image = tf.expand_dims(image, 0)\n",
        "    image = tf.compat.v1.image.resize_bilinear(\n",
        "        image, [height, width], align_corners=False)\n",
        "    image = tf.squeeze(image)\n",
        "    image = tf.cast(image, dtype=tf.uint8)\n",
        "    return image\n",
        "\n",
        "  def to_img_feature(images):\n",
        "    \"\"\"Extract the feature of image vectors\"\"\"\n",
        "    outputs = module(images)\n",
        "    return outputs\n",
        "\n",
        "  # Step 2) Extract image features of the target image.\n",
        "  target_image_bytes = tf.io.gfile.GFile(target_image_path, 'rb').read()\n",
        "  target_image = tf.constant(target_image_bytes, dtype=tf.string)\n",
        "  target_image = decode_and_resize(target_image)\n",
        "  target_image = tf.image.convert_image_dtype(target_image, dtype=tf.float32)\n",
        "  target_image = tf.expand_dims(target_image, 0)\n",
        "  target_image = to_img_feature(target_image)\n",
        "\n",
        "  # Step 3) Extract image features of input images.\n",
        "  input_byte = tf.compat.v1.placeholder(tf.string, shape=[None])\n",
        "  input_image = tf.map_fn(decode_and_resize, input_byte, back_prop=False, dtype=tf.uint8)\n",
        "  input_image = tf.image.convert_image_dtype(input_image, dtype=tf.float32)\n",
        "  input_image = to_img_feature(input_image)\n",
        "\n",
        "  # Step 4) Compare cosine_similarities of the target image and the input images.\n",
        "  dot = tf.tensordot(target_image, tf.transpose(input_image), 1)\n",
        "  similarity = dot / (tf.norm(target_image, axis=1) * tf.norm(input_image, axis=1))\n",
        "  similarity = tf.reshape(similarity, [-1])\n",
        "  \n",
        "  return input_byte, similarity"
      ],
      "execution_count": 11,
      "outputs": []
    },
    {
      "cell_type": "code",
      "metadata": {
        "id": "J2-ij66fC5cR",
        "colab_type": "code",
        "colab": {}
      },
      "source": [
        "#Step5 -- Run\n",
        "#Compar target and input image\n",
        "\n",
        "# Load bytes of image files\n",
        "image_bytes = [open(name, 'rb').read()\n",
        "               for name in integrated_path]"
      ],
      "execution_count": 22,
      "outputs": []
    },
    {
      "cell_type": "code",
      "metadata": {
        "id": "pZJVsvPiDFxA",
        "colab_type": "code",
        "colab": {
          "base_uri": "https://localhost:8080/",
          "height": 35
        },
        "outputId": "9a7b2bb8-217f-4591-a655-34d2812181a1"
      },
      "source": [
        "with tf.Graph().as_default():\n",
        "  input_byte, similarity_op = build_graph(module_url, target_image_path)\n",
        "\n",
        "  with tf.compat.v1.Session() as sess:\n",
        "    sess.run(tf.compat.v1.global_variables_initializer())\n",
        "    t0 = time.time() # for time check\n",
        "    \n",
        "    # Inference similarities\n",
        "    similarities = sess.run(similarity_op, feed_dict={input_byte: image_bytes})\n",
        "    \n",
        "    print(\"%d개 이미지 처리시간: %.2f 초\" % (len(similarities), time.time() - t0))"
      ],
      "execution_count": 23,
      "outputs": [
        {
          "output_type": "stream",
          "text": [
            "80개 이미지 처리시간: 9.14 초\n"
          ],
          "name": "stdout"
        }
      ]
    },
    {
      "cell_type": "code",
      "metadata": {
        "id": "WjzmSpGa49Gh",
        "colab_type": "code",
        "colab": {
          "base_uri": "https://localhost:8080/",
          "height": 323
        },
        "outputId": "f9041a63-fbc3-4f04-dcc9-dba7b826340c"
      },
      "source": [
        "similarities"
      ],
      "execution_count": 24,
      "outputs": [
        {
          "output_type": "execute_result",
          "data": {
            "text/plain": [
              "array([0.9999998 , 0.4684162 , 0.62143457, 0.53107005, 0.69087523,\n",
              "       0.6074843 , 0.5177717 , 0.68192714, 0.5613087 , 0.5674111 ,\n",
              "       0.7160063 , 0.624648  , 0.56516   , 0.7062994 , 0.7151039 ,\n",
              "       0.5129453 , 0.7305519 , 0.680838  , 0.6018462 , 0.76232696,\n",
              "       0.54824835, 0.57590014, 0.56240594, 0.54040515, 0.57860607,\n",
              "       0.7527363 , 0.6744129 , 0.6153813 , 0.5201589 , 0.53346837,\n",
              "       0.667175  , 0.6440528 , 0.7117808 , 0.6472451 , 0.560076  ,\n",
              "       0.5014301 , 0.47164473, 0.48731995, 0.6683483 , 0.6226673 ,\n",
              "       0.50971776, 0.53845507, 0.7220756 , 0.4595624 , 0.65993637,\n",
              "       0.77910477, 0.7104946 , 0.5425393 , 0.7257345 , 0.51353896,\n",
              "       0.5549036 , 0.560705  , 0.52482325, 0.64664733, 0.6942507 ,\n",
              "       0.54071563, 0.74134934, 0.5203869 , 0.56125844, 0.5466823 ,\n",
              "       0.59113425, 0.4913129 , 0.636883  , 0.50278336, 0.7031585 ,\n",
              "       0.63674474, 0.52067816, 0.39208788, 0.65331346, 0.6615347 ,\n",
              "       0.48591086, 0.5916608 , 0.6722311 , 0.5179231 , 0.60655665,\n",
              "       0.67896205, 0.44754276, 0.63961536, 0.5845139 , 0.5889628 ],\n",
              "      dtype=float32)"
            ]
          },
          "metadata": {
            "tags": []
          },
          "execution_count": 24
        }
      ]
    },
    {
      "cell_type": "code",
      "metadata": {
        "id": "rRKdwUE7vKTV",
        "colab_type": "code",
        "colab": {}
      },
      "source": [
        "#실제 출력에 활용한 이미지 리스트 제작\n",
        "test_input_df['similarity'] = similarities[1:len(similarities)] #타겟사진을 제외한 유사도 추출\n",
        "test_input_df = test_input_df.sort_values(by=['similarity'],ascending=False).reset_index(drop=True) # 높은 순으로 정렬\n",
        "\n",
        "sorted_img_path = np.array(test_input_df['url'][0:5]) #상위 n개 추출\n",
        "sorted_sim = np.array(test_input_df['similarity'][0:5]) #상위 n개 추출"
      ],
      "execution_count": 25,
      "outputs": []
    },
    {
      "cell_type": "code",
      "metadata": {
        "id": "1nQInhFuF8qn",
        "colab_type": "code",
        "colab": {}
      },
      "source": [
        "# 결과 출력\n",
        "print(\"### 타겟 이미지 ###\")\n",
        "display(Image(filename = target_image_path, width = 300, height = 300))\n",
        "print(\"- 유사도: %.2f\" % similarities[0])\n",
        "\n",
        "print(\"### 비교 이미지 ###\")\n",
        "for similarity, sorted_img_path in zip(sorted_sim, sorted_img_path):\n",
        "  display(Image(filename = sorted_img_path, width = 300, height = 300))  \n",
        "  print(\"- 유사도: %.2f\" % similarity)"
      ],
      "execution_count": null,
      "outputs": []
    },
    {
      "cell_type": "code",
      "metadata": {
        "id": "syfZ-ouKtT5N",
        "colab_type": "code",
        "colab": {}
      },
      "source": [
        ""
      ],
      "execution_count": null,
      "outputs": []
    }
  ]
}